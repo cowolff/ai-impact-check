{
 "cells": [
  {
   "cell_type": "code",
   "execution_count": 2,
   "metadata": {},
   "outputs": [
    {
     "name": "stdout",
     "output_type": "stream",
     "text": [
      "[{'CreationDate': b'D:20240822074852Z', 'Creator': b'TeX', 'ModDate': b'D:20240822074852Z', 'PTEX.Fullbanner': b'This is pdfTeX, Version 3.141592653-2.6-1.40.25 (TeX Live 2023) kpathsea version 6.3.5', 'Producer': b'pdfTeX-1.40.25', 'Trapped': /'False'}]\n"
     ]
    }
   ],
   "source": [
    "from pdfminer.pdfparser import PDFParser\n",
    "from pdfminer.pdfdocument import PDFDocument\n",
    "\n",
    "# Replace 'your_pdf_file.pdf' with the path to your PDF file\n",
    "pdf_path = '/Users/cowolff/Downloads/AAAI_Press_Anonymous_SubmissionInstructions_for_Authors_Using_LaTeX-1.pdf'\n",
    "\n",
    "# Open the PDF file in binary read mode\n",
    "with open(pdf_path, 'rb') as file:\n",
    "    # Create a PDF reader object\n",
    "    parser = PDFParser(file)\n",
    "    doc = PDFDocument(parser)\n",
    "\n",
    "    print(doc.info)  # The \"Info\" metadata\n",
    "\n"
   ]
  }
 ],
 "metadata": {
  "kernelspec": {
   "display_name": "dfki",
   "language": "python",
   "name": "python3"
  },
  "language_info": {
   "codemirror_mode": {
    "name": "ipython",
    "version": 3
   },
   "file_extension": ".py",
   "mimetype": "text/x-python",
   "name": "python",
   "nbconvert_exporter": "python",
   "pygments_lexer": "ipython3",
   "version": "3.10.13"
  }
 },
 "nbformat": 4,
 "nbformat_minor": 2
}
